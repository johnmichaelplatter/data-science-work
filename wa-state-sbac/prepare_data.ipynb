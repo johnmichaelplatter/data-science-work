{
 "cells": [
  {
   "cell_type": "code",
   "execution_count": 49,
   "metadata": {},
   "outputs": [],
   "source": [
    "import pandas as pd\n",
    "import numpy as np\n",
    "import matplotlib.pyplot as plt"
   ]
  },
  {
   "cell_type": "code",
   "execution_count": 50,
   "metadata": {},
   "outputs": [],
   "source": [
    "pd.set_option('display.max_columns', 500)\n",
    "pd.set_option('display.max_rows', 2000)"
   ]
  },
  {
   "cell_type": "code",
   "execution_count": 51,
   "metadata": {},
   "outputs": [],
   "source": [
    "files=['Report_Card_Teacher_Qualification_Summary.csv',\n",
    "'Report_Card_Assessment_Data_2018-19_School_Year.csv',\n",
    "'Report_Card_Enrollment_2018-19_School_Year.csv',\n",
    "'Report_Card_Teacher_Demographics_2018-19_School_Year.csv']\n",
    "\n",
    "df1=pd.read_csv(files[0], low_memory=False)\n",
    "df2=pd.read_csv(files[1], low_memory=False)\n",
    "df3=pd.read_csv(files[2], low_memory=False)\n",
    "df4=pd.read_csv(files[3], low_memory=False)\n",
    "df5=pd.read_excel('Report Card Per Pupil Finance Data 2018-19.xlsx')"
   ]
  },
  {
   "cell_type": "raw",
   "metadata": {},
   "source": [
    "print('\\n',files[0],'\\n')\n",
    "df1=df1[df1.SchoolYear=='2018-19']\n",
    "df1.info()\n",
    "\n",
    "print('\\n',files[1],'\\n')\n",
    "df2.info()\n",
    "\n",
    "print('\\n',files[2],'\\n')\n",
    "df3.info()\n",
    "\n",
    "print('\\n',files[3],'\\n')\n",
    "df4.info()\n",
    "\n",
    "print('\\n','Report Card Per Pupil Finance Data 2018-19.xlsx','\\n')\n",
    "df5.info()"
   ]
  },
  {
   "cell_type": "code",
   "execution_count": 52,
   "metadata": {},
   "outputs": [],
   "source": [
    "df5.DistrictName=df5.DistrictName.str.replace('Seattle School District #1','Seattle School District No. 1')\\\n",
    "                .str.replace('Green Dot Destiny ','Green Dot Destiny')"
   ]
  },
  {
   "cell_type": "code",
   "execution_count": 53,
   "metadata": {},
   "outputs": [],
   "source": [
    "districts=df5.DistrictName.value_counts().sort_index()\n"
   ]
  },
  {
   "cell_type": "code",
   "execution_count": 54,
   "metadata": {},
   "outputs": [],
   "source": [
    "master=[]\n",
    "outs4=[]\n",
    "for district in list(df4.DistrictName.value_counts().sort_index().index):\n",
    "    if district not in districts:\n",
    "        outs4.append(district)\n",
    "    if district in districts:\n",
    "        master.append(district)"
   ]
  },
  {
   "cell_type": "code",
   "execution_count": 55,
   "metadata": {},
   "outputs": [],
   "source": [
    "outs3=[]\n",
    "for district in list(df3.DistrictName.value_counts().sort_index().index):\n",
    "    if district not in districts:\n",
    "        outs3.append(district)\n",
    "    if district in districts:\n",
    "        master.append(district)"
   ]
  },
  {
   "cell_type": "code",
   "execution_count": 56,
   "metadata": {},
   "outputs": [],
   "source": [
    "outs2=[]\n",
    "for district in list(df3.DistrictName.value_counts().sort_index().index):\n",
    "    if district not in districts:\n",
    "        outs2.append(district)\n",
    "    if district in districts:\n",
    "        master.append(district)"
   ]
  },
  {
   "cell_type": "code",
   "execution_count": 57,
   "metadata": {},
   "outputs": [],
   "source": [
    "outs1=[]\n",
    "for district in list(df3.DistrictName.value_counts().sort_index().index):\n",
    "    if district not in districts:\n",
    "        outs1.append(district)\n",
    "    if district in districts:\n",
    "        master.append(district)"
   ]
  },
  {
   "cell_type": "code",
   "execution_count": 58,
   "metadata": {},
   "outputs": [],
   "source": [
    "master=pd.Series(master).value_counts()"
   ]
  },
  {
   "cell_type": "code",
   "execution_count": 59,
   "metadata": {},
   "outputs": [
    {
     "data": {
      "text/plain": [
       "['Impact Public Schools']"
      ]
     },
     "execution_count": 59,
     "metadata": {},
     "output_type": "execute_result"
    }
   ],
   "source": [
    "[i for i in list(districts.index) if i not in master.index]"
   ]
  },
  {
   "cell_type": "markdown",
   "metadata": {},
   "source": [
    "## Test Scores"
   ]
  },
  {
   "cell_type": "code",
   "execution_count": 60,
   "metadata": {},
   "outputs": [],
   "source": [
    "sbac=\\\n",
    "df2.query(\"GradeLevel=='10th Grade' and\\\n",
    "           TestAdministration=='SBAC' and\\\n",
    "           TestSubject=='Math' and\\\n",
    "           StudentGroup in ('All Students',\\\n",
    "                            'Asian','Black/ African American',\\\n",
    "                            'Hispanic/ Latino of any race(s)','White') and\\\n",
    "           SchoolName=='District Total'\")\n"
   ]
  },
  {
   "cell_type": "code",
   "execution_count": 61,
   "metadata": {},
   "outputs": [],
   "source": [
    "notnull_sbac=sbac.dropna(subset=['CountMetStandard']).copy()"
   ]
  },
  {
   "cell_type": "code",
   "execution_count": 62,
   "metadata": {},
   "outputs": [],
   "source": [
    "notnull_sbac.PercentMetStandard=notnull_sbac.PercentMetStandard.str.strip('%').astype(float)/100"
   ]
  },
  {
   "cell_type": "code",
   "execution_count": 63,
   "metadata": {},
   "outputs": [],
   "source": [
    "percent_met=\\\n",
    "notnull_sbac[['DistrictName','StudentGroup','PercentMetStandard']]\\\n",
    ".pivot(index='DistrictName', columns='StudentGroup').droplevel(0,axis=1)"
   ]
  },
  {
   "cell_type": "code",
   "execution_count": 64,
   "metadata": {},
   "outputs": [],
   "source": [
    "percent_met['students_testing_n']=\\\n",
    "sbac[sbac.StudentGroup=='All Students'].groupby('DistrictName')\\\n",
    "                                       .mean()['Count of Students Expected to Test']"
   ]
  },
  {
   "cell_type": "code",
   "execution_count": 65,
   "metadata": {},
   "outputs": [],
   "source": [
    "percent_met.columns=['sbac_pass_all',\n",
    "                     'sbac_pass_asian',\n",
    "                     'sbac_pass_black',\n",
    "                     'sbac_pass_latinx',\n",
    "                     'sbac_pass_white',\n",
    "                     'students_testing_n']"
   ]
  },
  {
   "cell_type": "code",
   "execution_count": 66,
   "metadata": {},
   "outputs": [],
   "source": [
    "percent_met=\\\n",
    "percent_met[['students_testing_n',\n",
    "             'sbac_pass_all',\n",
    "             'sbac_pass_black',\n",
    "             'sbac_pass_latinx',\n",
    "             'sbac_pass_white',\n",
    "             'sbac_pass_asian']]\n"
   ]
  },
  {
   "cell_type": "code",
   "execution_count": 67,
   "metadata": {},
   "outputs": [],
   "source": [
    "percent_met.rename({'Seattle School District #1':'Seattle School District No. 1'},inplace=True)"
   ]
  },
  {
   "cell_type": "markdown",
   "metadata": {},
   "source": [
    "## Qualifications"
   ]
  },
  {
   "cell_type": "code",
   "execution_count": 68,
   "metadata": {},
   "outputs": [],
   "source": [
    "df1=df1[(df1.ContentAreaName=='All')&(df1.SchoolName.isnull())&(df1.SchoolYear=='2018-19')]"
   ]
  },
  {
   "cell_type": "code",
   "execution_count": 69,
   "metadata": {},
   "outputs": [],
   "source": [
    "qualified=df1[df1.TeacherQualification\\\n",
    "                            .isin(['Inexperienced status',\n",
    "                                   'Out-of-Field status',\n",
    "                                   'Limited Certificated status'])][['DistrictName',\n",
    "                                                                     'TeacherQualification',\n",
    "                                                                     'TeacherPercent']]"
   ]
  },
  {
   "cell_type": "code",
   "execution_count": 70,
   "metadata": {},
   "outputs": [],
   "source": [
    "qualified2=qualified.pivot(index='DistrictName',columns='TeacherQualification').droplevel(0,axis=1)"
   ]
  },
  {
   "cell_type": "code",
   "execution_count": 71,
   "metadata": {},
   "outputs": [],
   "source": [
    "qualified2.columns=['teacher_percent_inexperienced',\n",
    "                    'teacher_percent_limited_cert',\n",
    "                    'teacher_percent_out_of_field']"
   ]
  },
  {
   "cell_type": "markdown",
   "metadata": {},
   "source": [
    "## Enrollment"
   ]
  },
  {
   "cell_type": "code",
   "execution_count": 72,
   "metadata": {},
   "outputs": [],
   "source": [
    "demographics=\\\n",
    "df3[(df3.SchoolName=='District Total')&\\\n",
    "    (df3.GradeLevel=='AllGrades')][['DistrictName',\n",
    "                                    'All Students',\n",
    "                                    'Black/ African American', \n",
    "                                    'Hispanic/ Latino of any race(s)', \n",
    "                                    'White', \n",
    "                                    'Asian']].set_index('DistrictName')"
   ]
  },
  {
   "cell_type": "code",
   "execution_count": 73,
   "metadata": {},
   "outputs": [],
   "source": [
    "demographics['percent_black']=demographics['Black/ African American']/demographics['All Students']\n",
    "demographics['percent_latinx']=demographics['Hispanic/ Latino of any race(s)']/demographics['All Students']\n",
    "demographics['percent_white']=demographics['White']/demographics['All Students']\n",
    "demographics['percent_asian']=demographics['Asian']/demographics['All Students']"
   ]
  },
  {
   "cell_type": "code",
   "execution_count": 74,
   "metadata": {},
   "outputs": [],
   "source": [
    "demographics=demographics.rename({'All Students':'student_count'},axis=1)"
   ]
  },
  {
   "cell_type": "code",
   "execution_count": 75,
   "metadata": {},
   "outputs": [],
   "source": [
    "demographics=demographics[['student_count',\n",
    "                           'percent_black',\n",
    "                           'percent_latinx',\n",
    "                           'percent_white',\n",
    "                           'percent_asian']]"
   ]
  },
  {
   "cell_type": "markdown",
   "metadata": {},
   "source": [
    "## Teacher Demographics"
   ]
  },
  {
   "cell_type": "code",
   "execution_count": 76,
   "metadata": {},
   "outputs": [],
   "source": [
    "teacher_demographics=\\\n",
    "df4[df4.SchoolName.isnull()&\\\n",
    "    df4.DemographicCategory.isin(['All',\n",
    "                                  'Not Provided',\n",
    "                                  'Asian',\n",
    "                                  'White',\n",
    "                                  'Black/African American',\n",
    "                                  'Hispanic/Latino of any race(s)'])]\\\n",
    "                           .groupby(['DistrictName','DemographicCategory'])\\\n",
    "                           .sum()[['TeacherCount','TeacherPercent']]\\\n",
    "                           .reset_index()\n"
   ]
  },
  {
   "cell_type": "code",
   "execution_count": 77,
   "metadata": {},
   "outputs": [],
   "source": [
    "teacher_demographics2=teacher_demographics.pivot(index='DistrictName',columns='DemographicCategory')"
   ]
  },
  {
   "cell_type": "code",
   "execution_count": 78,
   "metadata": {},
   "outputs": [],
   "source": [
    "teacher_demographics3=teacher_demographics2.TeacherPercent.loc[:,'Asian':'White']"
   ]
  },
  {
   "cell_type": "code",
   "execution_count": 79,
   "metadata": {},
   "outputs": [],
   "source": [
    "teacher_demographics3['num_teachers']=teacher_demographics2['TeacherCount','All']"
   ]
  },
  {
   "cell_type": "code",
   "execution_count": 80,
   "metadata": {},
   "outputs": [],
   "source": [
    "teacher_demographics3.columns=['teacher_percent_asian', \n",
    "                               'teacher_percent_black', \n",
    "                               'teacher_percent_latinx',\n",
    "                               'teacher_percent_unknown_demographic', \n",
    "                               'teacher_percent_white', \n",
    "                               'num_teachers']"
   ]
  },
  {
   "cell_type": "code",
   "execution_count": 81,
   "metadata": {},
   "outputs": [],
   "source": [
    "teacher_demographics3=teacher_demographics3.fillna(0)[['num_teachers',\n",
    "                                                       'teacher_percent_black',\n",
    "                                                       'teacher_percent_latinx',\n",
    "                                                       'teacher_percent_white',\n",
    "                                                       'teacher_percent_asian', \n",
    "                                                       'teacher_percent_unknown_demographic',\n",
    "                                                      ]]"
   ]
  },
  {
   "cell_type": "markdown",
   "metadata": {},
   "source": [
    "# Funding"
   ]
  },
  {
   "cell_type": "code",
   "execution_count": 82,
   "metadata": {},
   "outputs": [],
   "source": [
    "expenditure=\\\n",
    "df5.query(\"SchoolName=='District Total'\")\\\n",
    "   .groupby('DistrictName').sum()"
   ]
  },
  {
   "cell_type": "code",
   "execution_count": 83,
   "metadata": {},
   "outputs": [],
   "source": [
    "expenditure['student_FTE']=df5.query(\"SchoolName=='District Total'\")\\\n",
    "                                  .groupby('DistrictName')\\\n",
    "                                  .mean().EnrollmentTotal\n"
   ]
  },
  {
   "cell_type": "code",
   "execution_count": 84,
   "metadata": {},
   "outputs": [],
   "source": [
    "expenditure=expenditure[['student_FTE','Expenditure']].copy()"
   ]
  },
  {
   "cell_type": "code",
   "execution_count": 85,
   "metadata": {},
   "outputs": [],
   "source": [
    "expenditure['spending_per_student']=expenditure.Expenditure/expenditure.student_FTE"
   ]
  },
  {
   "cell_type": "code",
   "execution_count": 86,
   "metadata": {},
   "outputs": [],
   "source": [
    "expenditure.columns=['student_FTE','total_spending','spending_per_student']"
   ]
  },
  {
   "cell_type": "markdown",
   "metadata": {},
   "source": [
    "# Merging Full List"
   ]
  },
  {
   "cell_type": "code",
   "execution_count": 87,
   "metadata": {},
   "outputs": [],
   "source": [
    "df_wa=expenditure.join(teacher_demographics3,how='left')\\\n",
    "                 .join(qualified2,how='left')\\\n",
    "                 .join(demographics,how='left')\\\n",
    "                 .join(percent_met,how='outer')"
   ]
  },
  {
   "cell_type": "code",
   "execution_count": 88,
   "metadata": {},
   "outputs": [],
   "source": [
    "df_wa.drop('Impact Public Schools',inplace=True)"
   ]
  },
  {
   "cell_type": "code",
   "execution_count": 93,
   "metadata": {},
   "outputs": [],
   "source": [
    "df_wa.dropna(subset=['teacher_percent_black',\n",
    "                     'teacher_percent_inexperienced'],inplace=True)"
   ]
  },
  {
   "cell_type": "code",
   "execution_count": 42,
   "metadata": {},
   "outputs": [],
   "source": [
    "df_wa.to_csv('wa_school_district_data.csv')"
   ]
  },
  {
   "cell_type": "markdown",
   "metadata": {},
   "source": [
    "# State Totals Dataset"
   ]
  },
  {
   "cell_type": "code",
   "execution_count": 43,
   "metadata": {},
   "outputs": [],
   "source": [
    "state_totals=\\\n",
    "df2.query(\"GradeLevel=='10th Grade' and\\\n",
    "           TestAdministration=='SBAC' and\\\n",
    "           TestSubject=='Math' and\\\n",
    "           StudentGroup in ('All Students',\\\n",
    "                            'Asian','Black/ African American',\\\n",
    "                            'Hispanic/ Latino of any race(s)','White') and\\\n",
    "           SchoolName=='State Total'\")[['StudentGroup', \n",
    "                                        'Count of students expected to test including previously passed',\n",
    "                                        'CountMetStandard']\\\n",
    "                                      + ['PercentLevel'+str(i) for i in range(1,5)]]"
   ]
  },
  {
   "cell_type": "code",
   "execution_count": 44,
   "metadata": {},
   "outputs": [],
   "source": [
    "state_totals.columns=['demographic',\n",
    "                      'count_total_tested',\n",
    "                      'count_met_standard',\n",
    "                      'percent_level_1',\n",
    "                      'percent_level_2',\n",
    "                      'percent_level_3',\n",
    "                      'percent_level_4']"
   ]
  },
  {
   "cell_type": "code",
   "execution_count": 45,
   "metadata": {},
   "outputs": [],
   "source": [
    "state_totals=state_totals.reset_index(drop=True)"
   ]
  },
  {
   "cell_type": "code",
   "execution_count": 46,
   "metadata": {},
   "outputs": [],
   "source": [
    "state_totals.percent_level_1=state_totals.percent_level_1.str.strip('%').astype(float)/100\n",
    "state_totals.percent_level_2=state_totals.percent_level_2.str.strip('%').astype(float)/100\n",
    "state_totals.percent_level_3=state_totals.percent_level_3.str.strip('%').astype(float)/100\n",
    "state_totals.percent_level_4=state_totals.percent_level_4.str.strip('%').astype(float)/100"
   ]
  },
  {
   "cell_type": "code",
   "execution_count": 47,
   "metadata": {
    "scrolled": false
   },
   "outputs": [],
   "source": [
    "state_total=\\\n",
    "state_totals.astype({'count_total_tested':int,\n",
    "                     'count_met_standard':int})"
   ]
  },
  {
   "cell_type": "code",
   "execution_count": 48,
   "metadata": {},
   "outputs": [],
   "source": [
    "state_total.to_csv('state_totals.csv',index=False)"
   ]
  },
  {
   "cell_type": "code",
   "execution_count": 94,
   "metadata": {},
   "outputs": [
    {
     "name": "stdout",
     "output_type": "stream",
     "text": [
      "<class 'pandas.core.frame.DataFrame'>\n",
      "Index: 307 entries, Aberdeen School District to Zillah School District\n",
      "Data columns (total 23 columns):\n",
      " #   Column                               Non-Null Count  Dtype  \n",
      "---  ------                               --------------  -----  \n",
      " 0   student_FTE                          307 non-null    float64\n",
      " 1   total_spending                       307 non-null    float64\n",
      " 2   spending_per_student                 307 non-null    float64\n",
      " 3   num_teachers                         307 non-null    float64\n",
      " 4   teacher_percent_black                307 non-null    float64\n",
      " 5   teacher_percent_latinx               307 non-null    float64\n",
      " 6   teacher_percent_white                307 non-null    float64\n",
      " 7   teacher_percent_asian                307 non-null    float64\n",
      " 8   teacher_percent_unknown_demographic  307 non-null    float64\n",
      " 9   teacher_percent_inexperienced        307 non-null    float64\n",
      " 10  teacher_percent_limited_cert         307 non-null    float64\n",
      " 11  teacher_percent_out_of_field         307 non-null    float64\n",
      " 12  student_count                        307 non-null    float64\n",
      " 13  percent_black                        307 non-null    float64\n",
      " 14  percent_latinx                       307 non-null    float64\n",
      " 15  percent_white                        307 non-null    float64\n",
      " 16  percent_asian                        307 non-null    float64\n",
      " 17  students_testing_n                   226 non-null    float64\n",
      " 18  sbac_pass_all                        226 non-null    float64\n",
      " 19  sbac_pass_black                      28 non-null     float64\n",
      " 20  sbac_pass_latinx                     116 non-null    float64\n",
      " 21  sbac_pass_white                      161 non-null    float64\n",
      " 22  sbac_pass_asian                      46 non-null     float64\n",
      "dtypes: float64(23)\n",
      "memory usage: 57.6+ KB\n"
     ]
    }
   ],
   "source": [
    "df_wa.info()"
   ]
  },
  {
   "cell_type": "code",
   "execution_count": 92,
   "metadata": {},
   "outputs": [
    {
     "name": "stdout",
     "output_type": "stream",
     "text": [
      "<class 'pandas.core.frame.DataFrame'>\n",
      "RangeIndex: 5 entries, 0 to 4\n",
      "Data columns (total 7 columns):\n",
      " #   Column              Non-Null Count  Dtype  \n",
      "---  ------              --------------  -----  \n",
      " 0   demographic         5 non-null      object \n",
      " 1   count_total_tested  5 non-null      int64  \n",
      " 2   count_met_standard  5 non-null      int64  \n",
      " 3   percent_level_1     5 non-null      float64\n",
      " 4   percent_level_2     5 non-null      float64\n",
      " 5   percent_level_3     5 non-null      float64\n",
      " 6   percent_level_4     5 non-null      float64\n",
      "dtypes: float64(4), int64(2), object(1)\n",
      "memory usage: 408.0+ bytes\n"
     ]
    }
   ],
   "source": [
    "state_total.info()"
   ]
  }
 ],
 "metadata": {
  "kernelspec": {
   "display_name": "Python 3",
   "language": "python",
   "name": "python3"
  },
  "language_info": {
   "codemirror_mode": {
    "name": "ipython",
    "version": 3
   },
   "file_extension": ".py",
   "mimetype": "text/x-python",
   "name": "python",
   "nbconvert_exporter": "python",
   "pygments_lexer": "ipython3",
   "version": "3.8.5"
  }
 },
 "nbformat": 4,
 "nbformat_minor": 2
}
